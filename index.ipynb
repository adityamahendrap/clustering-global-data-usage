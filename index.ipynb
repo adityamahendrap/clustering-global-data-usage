{
  "nbformat": 4,
  "nbformat_minor": 0,
  "metadata": {
    "colab": {
      "provenance": []
    },
    "kernelspec": {
      "name": "python3",
      "display_name": "Python 3"
    },
    "language_info": {
      "name": "python"
    }
  },
  "cells": [
    {
      "cell_type": "markdown",
      "source": [
        "# Clustering dengan Algoritma K-Means\n",
        "Clustering adalah teknik untuk mengelompokkan objek-objek yang serupa berdasarkan kesamaan karakteristiknya. Misalnya, mengelompokkan pakaian berdasarkan jenisnya. Ini membantu kita memahami pola dalam data dan membuat keputusan yang lebih baik.\n",
        "\n",
        "Sedangkan K-Means adalah algoritma partisi, di mana setiap objek akan dikelompokkan ke dalam salah satu kelompok berdasarkan jarak Euclidean terdekat antara objek dengan pusat kelompok yang telah ditentukan sebelumnya."
      ],
      "metadata": {
        "id": "DrsHKApINt0g"
      }
    },
    {
      "cell_type": "markdown",
      "source": [
        "# Dataset Global Data Usage\n",
        "Data yang akan digunakan dalam clustering menggunakan metode K-Means ini adalah dataset penggunaan internet global (Global Internet Usage). Dataset ini berisi data-data pengukuran atau analisis yang melibatkan penggunaan internet di negara-negara di seluruh dunia. Global Internet Usage memberikan wawasan tentang seberapa banyak orang yang menggunakan internet, tingkat aksesibilitas internet, tingkat adopsi teknologi digital, dan pola penggunaan internet di berbagai wilayah dan negara di dunia."
      ],
      "metadata": {
        "id": "6kWC8Q5XN_GX"
      }
    },
    {
      "cell_type": "markdown",
      "source": [
        "# Tujuan Clustering\n",
        "Adapun tujuan dilakukannya clustering pada dataset Global Data Usage meliputi:\n",
        "- Mengelompokkan negara-negara berdasarkan pola kesamaan atau perbedaan dalam variabel yang digunakan yang mana akan membantu dalam menganalisis dan memahami variasi karakteristik di antara negara-negara di seluruh dunia.\n",
        "- Mengidentifikasi kelompok-kelompok negara yang memiliki karakteristik serupa dalam hal penggunaan internet, yang memungkinkan kita untuk memahami dan membandingkan tren dan kecenderungan dalam penggunaan internet di seluruh dunia."
      ],
      "metadata": {
        "id": "iAGC5CtIOQbJ"
      }
    },
    {
      "cell_type": "markdown",
      "source": [
        "# Implementasi Pada Python"
      ],
      "metadata": {
        "id": "E8ll3zwWUrss"
      }
    },
    {
      "cell_type": "code",
      "source": [
        "import numpy as np\n",
        "import pandas as pd\n",
        "import matplotlib.pyplot as plt\n",
        "from sklearn.cluster import KMeans\n",
        "from sklearn.preprocessing import MinMaxScaler"
      ],
      "metadata": {
        "id": "hbkgavZDNu6u"
      },
      "execution_count": 36,
      "outputs": []
    },
    {
      "cell_type": "markdown",
      "source": [
        "Library yang digunakan untuk melakukan clustering dengan K-Means meliputi:\n",
        "- ```numpy (np)```: Library untuk operasi numerik dan manipulasi array.\n",
        "- ```pandas (pd)```: Library untuk manipulasi dan analisis data.\n",
        "- ```matplotlib.pyplot (plt)```: Library untuk membuat visualisasi grafik dan plot.\n",
        "- ```sklearn.cluster.KMeans```: Class dari library scikit-learn untuk menerapkan algoritma K-Means Clustering.\n",
        "- ```sklearn.preprocessing.MinMaxScaler```: Class dari library scikit-learn untuk melakukan penskalaan data ke rentang yang ditentukan."
      ],
      "metadata": {
        "id": "2FpGgOcxUlPL"
      }
    },
    {
      "cell_type": "code",
      "source": [
        "df = pd.read_csv('gapminder_internet.csv') # Membaca file csv"
      ],
      "metadata": {
        "id": "ANFkHbXWwep9"
      },
      "execution_count": 37,
      "outputs": []
    },
    {
      "cell_type": "markdown",
      "source": [
        "# Kondisi Awal Dataset\n",
        "Kondisi awal dataset Global Internet Usage yaitu terdapat beberapa variabel, antara lain:\n",
        "- country(string)\n",
        "- incomeperson(number)\n",
        "- internetuserate(number)\n",
        "- urbanrate(number)\n",
        "\n",
        "Namun dapat dilihat pada kolom incomeperson(number) terdapat nilai NaN. Yang artinya data dalam dataset ini masih berantakan."
      ],
      "metadata": {
        "id": "rRxerYjUP57d"
      }
    },
    {
      "cell_type": "code",
      "source": [
        "df # Menampilkan dataframe"
      ],
      "metadata": {
        "colab": {
          "base_uri": "https://localhost:8080/",
          "height": 424
        },
        "id": "ZqlWvlF0wo52",
        "outputId": "5c36424f-8691-400d-f9c4-0567aa2bc156"
      },
      "execution_count": 38,
      "outputs": [
        {
          "output_type": "execute_result",
          "data": {
            "text/plain": [
              "                country  incomeperperson  internetuserate  urbanrate\n",
              "0           Afghanistan              NaN         3.654122      24.04\n",
              "1               Albania      1914.996551        44.989947      46.72\n",
              "2               Algeria      2231.993335        12.500073      65.22\n",
              "3               Andorra     21943.339900        81.000000      88.92\n",
              "4                Angola      1381.004268         9.999954      56.70\n",
              "..                  ...              ...              ...        ...\n",
              "208             Vietnam       722.807559        27.851822      27.84\n",
              "209  West Bank and Gaza              NaN        36.422772      71.90\n",
              "210         Yemen, Rep.       610.357367        12.349750      30.64\n",
              "211              Zambia       432.226337        10.124986      35.42\n",
              "212            Zimbabwe       320.771890        11.500415      37.34\n",
              "\n",
              "[213 rows x 4 columns]"
            ],
            "text/html": [
              "\n",
              "  <div id=\"df-a455ef30-15ee-484e-be65-f06e7aef43be\">\n",
              "    <div class=\"colab-df-container\">\n",
              "      <div>\n",
              "<style scoped>\n",
              "    .dataframe tbody tr th:only-of-type {\n",
              "        vertical-align: middle;\n",
              "    }\n",
              "\n",
              "    .dataframe tbody tr th {\n",
              "        vertical-align: top;\n",
              "    }\n",
              "\n",
              "    .dataframe thead th {\n",
              "        text-align: right;\n",
              "    }\n",
              "</style>\n",
              "<table border=\"1\" class=\"dataframe\">\n",
              "  <thead>\n",
              "    <tr style=\"text-align: right;\">\n",
              "      <th></th>\n",
              "      <th>country</th>\n",
              "      <th>incomeperperson</th>\n",
              "      <th>internetuserate</th>\n",
              "      <th>urbanrate</th>\n",
              "    </tr>\n",
              "  </thead>\n",
              "  <tbody>\n",
              "    <tr>\n",
              "      <th>0</th>\n",
              "      <td>Afghanistan</td>\n",
              "      <td>NaN</td>\n",
              "      <td>3.654122</td>\n",
              "      <td>24.04</td>\n",
              "    </tr>\n",
              "    <tr>\n",
              "      <th>1</th>\n",
              "      <td>Albania</td>\n",
              "      <td>1914.996551</td>\n",
              "      <td>44.989947</td>\n",
              "      <td>46.72</td>\n",
              "    </tr>\n",
              "    <tr>\n",
              "      <th>2</th>\n",
              "      <td>Algeria</td>\n",
              "      <td>2231.993335</td>\n",
              "      <td>12.500073</td>\n",
              "      <td>65.22</td>\n",
              "    </tr>\n",
              "    <tr>\n",
              "      <th>3</th>\n",
              "      <td>Andorra</td>\n",
              "      <td>21943.339900</td>\n",
              "      <td>81.000000</td>\n",
              "      <td>88.92</td>\n",
              "    </tr>\n",
              "    <tr>\n",
              "      <th>4</th>\n",
              "      <td>Angola</td>\n",
              "      <td>1381.004268</td>\n",
              "      <td>9.999954</td>\n",
              "      <td>56.70</td>\n",
              "    </tr>\n",
              "    <tr>\n",
              "      <th>...</th>\n",
              "      <td>...</td>\n",
              "      <td>...</td>\n",
              "      <td>...</td>\n",
              "      <td>...</td>\n",
              "    </tr>\n",
              "    <tr>\n",
              "      <th>208</th>\n",
              "      <td>Vietnam</td>\n",
              "      <td>722.807559</td>\n",
              "      <td>27.851822</td>\n",
              "      <td>27.84</td>\n",
              "    </tr>\n",
              "    <tr>\n",
              "      <th>209</th>\n",
              "      <td>West Bank and Gaza</td>\n",
              "      <td>NaN</td>\n",
              "      <td>36.422772</td>\n",
              "      <td>71.90</td>\n",
              "    </tr>\n",
              "    <tr>\n",
              "      <th>210</th>\n",
              "      <td>Yemen, Rep.</td>\n",
              "      <td>610.357367</td>\n",
              "      <td>12.349750</td>\n",
              "      <td>30.64</td>\n",
              "    </tr>\n",
              "    <tr>\n",
              "      <th>211</th>\n",
              "      <td>Zambia</td>\n",
              "      <td>432.226337</td>\n",
              "      <td>10.124986</td>\n",
              "      <td>35.42</td>\n",
              "    </tr>\n",
              "    <tr>\n",
              "      <th>212</th>\n",
              "      <td>Zimbabwe</td>\n",
              "      <td>320.771890</td>\n",
              "      <td>11.500415</td>\n",
              "      <td>37.34</td>\n",
              "    </tr>\n",
              "  </tbody>\n",
              "</table>\n",
              "<p>213 rows × 4 columns</p>\n",
              "</div>\n",
              "      <button class=\"colab-df-convert\" onclick=\"convertToInteractive('df-a455ef30-15ee-484e-be65-f06e7aef43be')\"\n",
              "              title=\"Convert this dataframe to an interactive table.\"\n",
              "              style=\"display:none;\">\n",
              "        \n",
              "  <svg xmlns=\"http://www.w3.org/2000/svg\" height=\"24px\"viewBox=\"0 0 24 24\"\n",
              "       width=\"24px\">\n",
              "    <path d=\"M0 0h24v24H0V0z\" fill=\"none\"/>\n",
              "    <path d=\"M18.56 5.44l.94 2.06.94-2.06 2.06-.94-2.06-.94-.94-2.06-.94 2.06-2.06.94zm-11 1L8.5 8.5l.94-2.06 2.06-.94-2.06-.94L8.5 2.5l-.94 2.06-2.06.94zm10 10l.94 2.06.94-2.06 2.06-.94-2.06-.94-.94-2.06-.94 2.06-2.06.94z\"/><path d=\"M17.41 7.96l-1.37-1.37c-.4-.4-.92-.59-1.43-.59-.52 0-1.04.2-1.43.59L10.3 9.45l-7.72 7.72c-.78.78-.78 2.05 0 2.83L4 21.41c.39.39.9.59 1.41.59.51 0 1.02-.2 1.41-.59l7.78-7.78 2.81-2.81c.8-.78.8-2.07 0-2.86zM5.41 20L4 18.59l7.72-7.72 1.47 1.35L5.41 20z\"/>\n",
              "  </svg>\n",
              "      </button>\n",
              "      \n",
              "  <style>\n",
              "    .colab-df-container {\n",
              "      display:flex;\n",
              "      flex-wrap:wrap;\n",
              "      gap: 12px;\n",
              "    }\n",
              "\n",
              "    .colab-df-convert {\n",
              "      background-color: #E8F0FE;\n",
              "      border: none;\n",
              "      border-radius: 50%;\n",
              "      cursor: pointer;\n",
              "      display: none;\n",
              "      fill: #1967D2;\n",
              "      height: 32px;\n",
              "      padding: 0 0 0 0;\n",
              "      width: 32px;\n",
              "    }\n",
              "\n",
              "    .colab-df-convert:hover {\n",
              "      background-color: #E2EBFA;\n",
              "      box-shadow: 0px 1px 2px rgba(60, 64, 67, 0.3), 0px 1px 3px 1px rgba(60, 64, 67, 0.15);\n",
              "      fill: #174EA6;\n",
              "    }\n",
              "\n",
              "    [theme=dark] .colab-df-convert {\n",
              "      background-color: #3B4455;\n",
              "      fill: #D2E3FC;\n",
              "    }\n",
              "\n",
              "    [theme=dark] .colab-df-convert:hover {\n",
              "      background-color: #434B5C;\n",
              "      box-shadow: 0px 1px 3px 1px rgba(0, 0, 0, 0.15);\n",
              "      filter: drop-shadow(0px 1px 2px rgba(0, 0, 0, 0.3));\n",
              "      fill: #FFFFFF;\n",
              "    }\n",
              "  </style>\n",
              "\n",
              "      <script>\n",
              "        const buttonEl =\n",
              "          document.querySelector('#df-a455ef30-15ee-484e-be65-f06e7aef43be button.colab-df-convert');\n",
              "        buttonEl.style.display =\n",
              "          google.colab.kernel.accessAllowed ? 'block' : 'none';\n",
              "\n",
              "        async function convertToInteractive(key) {\n",
              "          const element = document.querySelector('#df-a455ef30-15ee-484e-be65-f06e7aef43be');\n",
              "          const dataTable =\n",
              "            await google.colab.kernel.invokeFunction('convertToInteractive',\n",
              "                                                     [key], {});\n",
              "          if (!dataTable) return;\n",
              "\n",
              "          const docLinkHtml = 'Like what you see? Visit the ' +\n",
              "            '<a target=\"_blank\" href=https://colab.research.google.com/notebooks/data_table.ipynb>data table notebook</a>'\n",
              "            + ' to learn more about interactive tables.';\n",
              "          element.innerHTML = '';\n",
              "          dataTable['output_type'] = 'display_data';\n",
              "          await google.colab.output.renderOutput(dataTable, element);\n",
              "          const docLink = document.createElement('div');\n",
              "          docLink.innerHTML = docLinkHtml;\n",
              "          element.appendChild(docLink);\n",
              "        }\n",
              "      </script>\n",
              "    </div>\n",
              "  </div>\n",
              "  "
            ]
          },
          "metadata": {},
          "execution_count": 38
        }
      ]
    },
    {
      "cell_type": "markdown",
      "source": [
        "Maka dari itu, perlu dilakukan beberapa tahap pengolahan data sebelum melakukan clustering"
      ],
      "metadata": {
        "id": "EQddknlqa-ML"
      }
    },
    {
      "cell_type": "markdown",
      "source": [
        "# Cleaning Data\n",
        "Cleaning data (pembersihan data) adalah proses yang melibatkan identifikasi, penanganan, dan koreksi masalah-masalah yang terdapat dalam dataset yang tidak lengkap, tidak akurat, tidak konsisten, atau tidak relevan. Tujuan dari cleaning data adalah memastikan bahwa dataset yang digunakan untuk analisis atau pemodelan data bebas dari kesalahan atau kekurangan yang dapat mengganggu validitas, keandalan, dan hasil yang akurat.\n",
        "\n",
        "Pada kasus ini, kita akan menghapus missing values / menghilangkan baris-baris yang memiliki nilai yang tidak tersedia (NaN) dari dataset agar data tetap konsisten."
      ],
      "metadata": {
        "id": "-0u4UB2wVMDu"
      }
    },
    {
      "cell_type": "code",
      "source": [
        "# Mengubah kolom 'incomeperperson', 'internetuserate', dan 'urbanrate' menjadi tipe data numerik\n",
        "df['incomeperperson'] = pd.to_numeric(df['incomeperperson'], errors='coerce')\n",
        "df['internetuserate'] = pd.to_numeric(df['internetuserate'], errors='coerce')\n",
        "df['urbanrate'] = pd.to_numeric(df['urbanrate'], errors='coerce')\n",
        "\n",
        "# Menghapus baris yang memiliki data yang bukan angka pada kolom \"incomeperperson\", \"internetuserate\", dan \"urbanrate\"\n",
        "df = df.loc[~df['incomeperperson'].isna() & ~df['internetuserate'].isna() & ~df['urbanrate'].isna()]"
      ],
      "metadata": {
        "id": "VdME1_xYxTPr"
      },
      "execution_count": 39,
      "outputs": []
    },
    {
      "cell_type": "code",
      "source": [
        "df # Menampilkan hasil cleaning data"
      ],
      "metadata": {
        "colab": {
          "base_uri": "https://localhost:8080/",
          "height": 424
        },
        "id": "rdtXFXOUZSj4",
        "outputId": "7007bb20-21a4-4c4b-9a25-712059e655f1"
      },
      "execution_count": 40,
      "outputs": [
        {
          "output_type": "execute_result",
          "data": {
            "text/plain": [
              "                 country  incomeperperson  internetuserate  urbanrate\n",
              "1                Albania      1914.996551        44.989947      46.72\n",
              "2                Algeria      2231.993335        12.500073      65.22\n",
              "3                Andorra     21943.339900        81.000000      88.92\n",
              "4                 Angola      1381.004268         9.999954      56.70\n",
              "5    Antigua and Barbuda     11894.464070        80.645455      30.46\n",
              "..                   ...              ...              ...        ...\n",
              "207            Venezuela      5528.363114        35.850437      93.32\n",
              "208              Vietnam       722.807559        27.851822      27.84\n",
              "210          Yemen, Rep.       610.357367        12.349750      30.64\n",
              "211               Zambia       432.226337        10.124986      35.42\n",
              "212             Zimbabwe       320.771890        11.500415      37.34\n",
              "\n",
              "[182 rows x 4 columns]"
            ],
            "text/html": [
              "\n",
              "  <div id=\"df-7591f3d0-91a4-4e70-b34b-f645e3379080\">\n",
              "    <div class=\"colab-df-container\">\n",
              "      <div>\n",
              "<style scoped>\n",
              "    .dataframe tbody tr th:only-of-type {\n",
              "        vertical-align: middle;\n",
              "    }\n",
              "\n",
              "    .dataframe tbody tr th {\n",
              "        vertical-align: top;\n",
              "    }\n",
              "\n",
              "    .dataframe thead th {\n",
              "        text-align: right;\n",
              "    }\n",
              "</style>\n",
              "<table border=\"1\" class=\"dataframe\">\n",
              "  <thead>\n",
              "    <tr style=\"text-align: right;\">\n",
              "      <th></th>\n",
              "      <th>country</th>\n",
              "      <th>incomeperperson</th>\n",
              "      <th>internetuserate</th>\n",
              "      <th>urbanrate</th>\n",
              "    </tr>\n",
              "  </thead>\n",
              "  <tbody>\n",
              "    <tr>\n",
              "      <th>1</th>\n",
              "      <td>Albania</td>\n",
              "      <td>1914.996551</td>\n",
              "      <td>44.989947</td>\n",
              "      <td>46.72</td>\n",
              "    </tr>\n",
              "    <tr>\n",
              "      <th>2</th>\n",
              "      <td>Algeria</td>\n",
              "      <td>2231.993335</td>\n",
              "      <td>12.500073</td>\n",
              "      <td>65.22</td>\n",
              "    </tr>\n",
              "    <tr>\n",
              "      <th>3</th>\n",
              "      <td>Andorra</td>\n",
              "      <td>21943.339900</td>\n",
              "      <td>81.000000</td>\n",
              "      <td>88.92</td>\n",
              "    </tr>\n",
              "    <tr>\n",
              "      <th>4</th>\n",
              "      <td>Angola</td>\n",
              "      <td>1381.004268</td>\n",
              "      <td>9.999954</td>\n",
              "      <td>56.70</td>\n",
              "    </tr>\n",
              "    <tr>\n",
              "      <th>5</th>\n",
              "      <td>Antigua and Barbuda</td>\n",
              "      <td>11894.464070</td>\n",
              "      <td>80.645455</td>\n",
              "      <td>30.46</td>\n",
              "    </tr>\n",
              "    <tr>\n",
              "      <th>...</th>\n",
              "      <td>...</td>\n",
              "      <td>...</td>\n",
              "      <td>...</td>\n",
              "      <td>...</td>\n",
              "    </tr>\n",
              "    <tr>\n",
              "      <th>207</th>\n",
              "      <td>Venezuela</td>\n",
              "      <td>5528.363114</td>\n",
              "      <td>35.850437</td>\n",
              "      <td>93.32</td>\n",
              "    </tr>\n",
              "    <tr>\n",
              "      <th>208</th>\n",
              "      <td>Vietnam</td>\n",
              "      <td>722.807559</td>\n",
              "      <td>27.851822</td>\n",
              "      <td>27.84</td>\n",
              "    </tr>\n",
              "    <tr>\n",
              "      <th>210</th>\n",
              "      <td>Yemen, Rep.</td>\n",
              "      <td>610.357367</td>\n",
              "      <td>12.349750</td>\n",
              "      <td>30.64</td>\n",
              "    </tr>\n",
              "    <tr>\n",
              "      <th>211</th>\n",
              "      <td>Zambia</td>\n",
              "      <td>432.226337</td>\n",
              "      <td>10.124986</td>\n",
              "      <td>35.42</td>\n",
              "    </tr>\n",
              "    <tr>\n",
              "      <th>212</th>\n",
              "      <td>Zimbabwe</td>\n",
              "      <td>320.771890</td>\n",
              "      <td>11.500415</td>\n",
              "      <td>37.34</td>\n",
              "    </tr>\n",
              "  </tbody>\n",
              "</table>\n",
              "<p>182 rows × 4 columns</p>\n",
              "</div>\n",
              "      <button class=\"colab-df-convert\" onclick=\"convertToInteractive('df-7591f3d0-91a4-4e70-b34b-f645e3379080')\"\n",
              "              title=\"Convert this dataframe to an interactive table.\"\n",
              "              style=\"display:none;\">\n",
              "        \n",
              "  <svg xmlns=\"http://www.w3.org/2000/svg\" height=\"24px\"viewBox=\"0 0 24 24\"\n",
              "       width=\"24px\">\n",
              "    <path d=\"M0 0h24v24H0V0z\" fill=\"none\"/>\n",
              "    <path d=\"M18.56 5.44l.94 2.06.94-2.06 2.06-.94-2.06-.94-.94-2.06-.94 2.06-2.06.94zm-11 1L8.5 8.5l.94-2.06 2.06-.94-2.06-.94L8.5 2.5l-.94 2.06-2.06.94zm10 10l.94 2.06.94-2.06 2.06-.94-2.06-.94-.94-2.06-.94 2.06-2.06.94z\"/><path d=\"M17.41 7.96l-1.37-1.37c-.4-.4-.92-.59-1.43-.59-.52 0-1.04.2-1.43.59L10.3 9.45l-7.72 7.72c-.78.78-.78 2.05 0 2.83L4 21.41c.39.39.9.59 1.41.59.51 0 1.02-.2 1.41-.59l7.78-7.78 2.81-2.81c.8-.78.8-2.07 0-2.86zM5.41 20L4 18.59l7.72-7.72 1.47 1.35L5.41 20z\"/>\n",
              "  </svg>\n",
              "      </button>\n",
              "      \n",
              "  <style>\n",
              "    .colab-df-container {\n",
              "      display:flex;\n",
              "      flex-wrap:wrap;\n",
              "      gap: 12px;\n",
              "    }\n",
              "\n",
              "    .colab-df-convert {\n",
              "      background-color: #E8F0FE;\n",
              "      border: none;\n",
              "      border-radius: 50%;\n",
              "      cursor: pointer;\n",
              "      display: none;\n",
              "      fill: #1967D2;\n",
              "      height: 32px;\n",
              "      padding: 0 0 0 0;\n",
              "      width: 32px;\n",
              "    }\n",
              "\n",
              "    .colab-df-convert:hover {\n",
              "      background-color: #E2EBFA;\n",
              "      box-shadow: 0px 1px 2px rgba(60, 64, 67, 0.3), 0px 1px 3px 1px rgba(60, 64, 67, 0.15);\n",
              "      fill: #174EA6;\n",
              "    }\n",
              "\n",
              "    [theme=dark] .colab-df-convert {\n",
              "      background-color: #3B4455;\n",
              "      fill: #D2E3FC;\n",
              "    }\n",
              "\n",
              "    [theme=dark] .colab-df-convert:hover {\n",
              "      background-color: #434B5C;\n",
              "      box-shadow: 0px 1px 3px 1px rgba(0, 0, 0, 0.15);\n",
              "      filter: drop-shadow(0px 1px 2px rgba(0, 0, 0, 0.3));\n",
              "      fill: #FFFFFF;\n",
              "    }\n",
              "  </style>\n",
              "\n",
              "      <script>\n",
              "        const buttonEl =\n",
              "          document.querySelector('#df-7591f3d0-91a4-4e70-b34b-f645e3379080 button.colab-df-convert');\n",
              "        buttonEl.style.display =\n",
              "          google.colab.kernel.accessAllowed ? 'block' : 'none';\n",
              "\n",
              "        async function convertToInteractive(key) {\n",
              "          const element = document.querySelector('#df-7591f3d0-91a4-4e70-b34b-f645e3379080');\n",
              "          const dataTable =\n",
              "            await google.colab.kernel.invokeFunction('convertToInteractive',\n",
              "                                                     [key], {});\n",
              "          if (!dataTable) return;\n",
              "\n",
              "          const docLinkHtml = 'Like what you see? Visit the ' +\n",
              "            '<a target=\"_blank\" href=https://colab.research.google.com/notebooks/data_table.ipynb>data table notebook</a>'\n",
              "            + ' to learn more about interactive tables.';\n",
              "          element.innerHTML = '';\n",
              "          dataTable['output_type'] = 'display_data';\n",
              "          await google.colab.output.renderOutput(dataTable, element);\n",
              "          const docLink = document.createElement('div');\n",
              "          docLink.innerHTML = docLinkHtml;\n",
              "          element.appendChild(docLink);\n",
              "        }\n",
              "      </script>\n",
              "    </div>\n",
              "  </div>\n",
              "  "
            ]
          },
          "metadata": {},
          "execution_count": 40
        }
      ]
    },
    {
      "cell_type": "markdown",
      "source": [
        "# Scaling Data\n",
        "Scaling data adalah proses mengubah rentang atau skala variabel-variabel dalam dataset sehingga semua variabel memiliki kontribusi yang seimbang dalam pembentukan cluster. Tujuan utama dari scaling data adalah untuk memastikan bahwa perbedaan skala atau rentang nilai antar variabel tidak mempengaruhi hasil clustering secara tidak proporsional.\n",
        "\n",
        "Jika scaling data tidak dilakukan, hasil clustering dapat dipengaruhi secara signifikan oleh variabel dengan rentang nilai yang besar, sementara variabel dengan rentang nilai yang lebih kecil dapat memiliki pengaruh yang terabaikan."
      ],
      "metadata": {
        "id": "AkNCM_9FXbid"
      }
    },
    {
      "cell_type": "code",
      "source": [
        "# Menggunakan subset DataFrame 'numeric_data' yang hanya berisi kolom-kolom numerik yang akan diolah.\n",
        "numeric_columns = ['incomeperperson', 'internetuserate', 'urbanrate']\n",
        "numeric_data = df[numeric_columns]\n",
        "\n",
        "# Scaling dan standarisasi data menggunakan MinMaxScaler\n",
        "scaler = MinMaxScaler()\n",
        "scaled_data = scaler.fit_transform(numeric_data) # Menghitung dan menerapkan transformasi skala pada data numerik.\n",
        "\n",
        "# Mengganti nilai kolom-kolom numerik dalam DataFrame dengan data yang sudah diubah skala.\n",
        "df.loc[:, numeric_columns] = scaled_data"
      ],
      "metadata": {
        "id": "_gt1U1nWy8IC",
        "colab": {
          "base_uri": "https://localhost:8080/"
        },
        "outputId": "b0ccaa03-9587-4147-ecd5-ee9700ea5245"
      },
      "execution_count": 41,
      "outputs": [
        {
          "output_type": "stream",
          "name": "stderr",
          "text": [
            "<ipython-input-41-97bb22992ed1>:10: SettingWithCopyWarning: \n",
            "A value is trying to be set on a copy of a slice from a DataFrame.\n",
            "Try using .loc[row_indexer,col_indexer] = value instead\n",
            "\n",
            "See the caveats in the documentation: https://pandas.pydata.org/pandas-docs/stable/user_guide/indexing.html#returning-a-view-versus-a-copy\n",
            "  df.loc[:, numeric_columns] = scaled_data\n"
          ]
        }
      ]
    },
    {
      "cell_type": "code",
      "source": [
        "df # Menampilkan hasil scaling"
      ],
      "metadata": {
        "colab": {
          "base_uri": "https://localhost:8080/",
          "height": 424
        },
        "id": "TJiDoDnvaoBb",
        "outputId": "0b53e2ec-760d-4ab7-8ca2-ff9f7669ca77"
      },
      "execution_count": 42,
      "outputs": [
        {
          "output_type": "execute_result",
          "data": {
            "text/plain": [
              "                 country  incomeperperson  internetuserate  urbanrate\n",
              "1                Albania         0.022212         0.469253   0.405357\n",
              "2                Algeria         0.026099         0.128788   0.611830\n",
              "3                Andorra         0.267828         0.846606   0.876339\n",
              "4                 Angola         0.015663         0.102589   0.516741\n",
              "5    Antigua and Barbuda         0.144594         0.842890   0.223884\n",
              "..                   ...              ...              ...        ...\n",
              "207            Venezuela         0.066524         0.373479   0.925446\n",
              "208              Vietnam         0.007591         0.289661   0.194643\n",
              "210          Yemen, Rep.         0.006212         0.127213   0.225893\n",
              "211               Zambia         0.004028         0.103899   0.279241\n",
              "212             Zimbabwe         0.002661         0.118313   0.300670\n",
              "\n",
              "[182 rows x 4 columns]"
            ],
            "text/html": [
              "\n",
              "  <div id=\"df-ebc108d8-20f9-4231-9145-f0a53519264d\">\n",
              "    <div class=\"colab-df-container\">\n",
              "      <div>\n",
              "<style scoped>\n",
              "    .dataframe tbody tr th:only-of-type {\n",
              "        vertical-align: middle;\n",
              "    }\n",
              "\n",
              "    .dataframe tbody tr th {\n",
              "        vertical-align: top;\n",
              "    }\n",
              "\n",
              "    .dataframe thead th {\n",
              "        text-align: right;\n",
              "    }\n",
              "</style>\n",
              "<table border=\"1\" class=\"dataframe\">\n",
              "  <thead>\n",
              "    <tr style=\"text-align: right;\">\n",
              "      <th></th>\n",
              "      <th>country</th>\n",
              "      <th>incomeperperson</th>\n",
              "      <th>internetuserate</th>\n",
              "      <th>urbanrate</th>\n",
              "    </tr>\n",
              "  </thead>\n",
              "  <tbody>\n",
              "    <tr>\n",
              "      <th>1</th>\n",
              "      <td>Albania</td>\n",
              "      <td>0.022212</td>\n",
              "      <td>0.469253</td>\n",
              "      <td>0.405357</td>\n",
              "    </tr>\n",
              "    <tr>\n",
              "      <th>2</th>\n",
              "      <td>Algeria</td>\n",
              "      <td>0.026099</td>\n",
              "      <td>0.128788</td>\n",
              "      <td>0.611830</td>\n",
              "    </tr>\n",
              "    <tr>\n",
              "      <th>3</th>\n",
              "      <td>Andorra</td>\n",
              "      <td>0.267828</td>\n",
              "      <td>0.846606</td>\n",
              "      <td>0.876339</td>\n",
              "    </tr>\n",
              "    <tr>\n",
              "      <th>4</th>\n",
              "      <td>Angola</td>\n",
              "      <td>0.015663</td>\n",
              "      <td>0.102589</td>\n",
              "      <td>0.516741</td>\n",
              "    </tr>\n",
              "    <tr>\n",
              "      <th>5</th>\n",
              "      <td>Antigua and Barbuda</td>\n",
              "      <td>0.144594</td>\n",
              "      <td>0.842890</td>\n",
              "      <td>0.223884</td>\n",
              "    </tr>\n",
              "    <tr>\n",
              "      <th>...</th>\n",
              "      <td>...</td>\n",
              "      <td>...</td>\n",
              "      <td>...</td>\n",
              "      <td>...</td>\n",
              "    </tr>\n",
              "    <tr>\n",
              "      <th>207</th>\n",
              "      <td>Venezuela</td>\n",
              "      <td>0.066524</td>\n",
              "      <td>0.373479</td>\n",
              "      <td>0.925446</td>\n",
              "    </tr>\n",
              "    <tr>\n",
              "      <th>208</th>\n",
              "      <td>Vietnam</td>\n",
              "      <td>0.007591</td>\n",
              "      <td>0.289661</td>\n",
              "      <td>0.194643</td>\n",
              "    </tr>\n",
              "    <tr>\n",
              "      <th>210</th>\n",
              "      <td>Yemen, Rep.</td>\n",
              "      <td>0.006212</td>\n",
              "      <td>0.127213</td>\n",
              "      <td>0.225893</td>\n",
              "    </tr>\n",
              "    <tr>\n",
              "      <th>211</th>\n",
              "      <td>Zambia</td>\n",
              "      <td>0.004028</td>\n",
              "      <td>0.103899</td>\n",
              "      <td>0.279241</td>\n",
              "    </tr>\n",
              "    <tr>\n",
              "      <th>212</th>\n",
              "      <td>Zimbabwe</td>\n",
              "      <td>0.002661</td>\n",
              "      <td>0.118313</td>\n",
              "      <td>0.300670</td>\n",
              "    </tr>\n",
              "  </tbody>\n",
              "</table>\n",
              "<p>182 rows × 4 columns</p>\n",
              "</div>\n",
              "      <button class=\"colab-df-convert\" onclick=\"convertToInteractive('df-ebc108d8-20f9-4231-9145-f0a53519264d')\"\n",
              "              title=\"Convert this dataframe to an interactive table.\"\n",
              "              style=\"display:none;\">\n",
              "        \n",
              "  <svg xmlns=\"http://www.w3.org/2000/svg\" height=\"24px\"viewBox=\"0 0 24 24\"\n",
              "       width=\"24px\">\n",
              "    <path d=\"M0 0h24v24H0V0z\" fill=\"none\"/>\n",
              "    <path d=\"M18.56 5.44l.94 2.06.94-2.06 2.06-.94-2.06-.94-.94-2.06-.94 2.06-2.06.94zm-11 1L8.5 8.5l.94-2.06 2.06-.94-2.06-.94L8.5 2.5l-.94 2.06-2.06.94zm10 10l.94 2.06.94-2.06 2.06-.94-2.06-.94-.94-2.06-.94 2.06-2.06.94z\"/><path d=\"M17.41 7.96l-1.37-1.37c-.4-.4-.92-.59-1.43-.59-.52 0-1.04.2-1.43.59L10.3 9.45l-7.72 7.72c-.78.78-.78 2.05 0 2.83L4 21.41c.39.39.9.59 1.41.59.51 0 1.02-.2 1.41-.59l7.78-7.78 2.81-2.81c.8-.78.8-2.07 0-2.86zM5.41 20L4 18.59l7.72-7.72 1.47 1.35L5.41 20z\"/>\n",
              "  </svg>\n",
              "      </button>\n",
              "      \n",
              "  <style>\n",
              "    .colab-df-container {\n",
              "      display:flex;\n",
              "      flex-wrap:wrap;\n",
              "      gap: 12px;\n",
              "    }\n",
              "\n",
              "    .colab-df-convert {\n",
              "      background-color: #E8F0FE;\n",
              "      border: none;\n",
              "      border-radius: 50%;\n",
              "      cursor: pointer;\n",
              "      display: none;\n",
              "      fill: #1967D2;\n",
              "      height: 32px;\n",
              "      padding: 0 0 0 0;\n",
              "      width: 32px;\n",
              "    }\n",
              "\n",
              "    .colab-df-convert:hover {\n",
              "      background-color: #E2EBFA;\n",
              "      box-shadow: 0px 1px 2px rgba(60, 64, 67, 0.3), 0px 1px 3px 1px rgba(60, 64, 67, 0.15);\n",
              "      fill: #174EA6;\n",
              "    }\n",
              "\n",
              "    [theme=dark] .colab-df-convert {\n",
              "      background-color: #3B4455;\n",
              "      fill: #D2E3FC;\n",
              "    }\n",
              "\n",
              "    [theme=dark] .colab-df-convert:hover {\n",
              "      background-color: #434B5C;\n",
              "      box-shadow: 0px 1px 3px 1px rgba(0, 0, 0, 0.15);\n",
              "      filter: drop-shadow(0px 1px 2px rgba(0, 0, 0, 0.3));\n",
              "      fill: #FFFFFF;\n",
              "    }\n",
              "  </style>\n",
              "\n",
              "      <script>\n",
              "        const buttonEl =\n",
              "          document.querySelector('#df-ebc108d8-20f9-4231-9145-f0a53519264d button.colab-df-convert');\n",
              "        buttonEl.style.display =\n",
              "          google.colab.kernel.accessAllowed ? 'block' : 'none';\n",
              "\n",
              "        async function convertToInteractive(key) {\n",
              "          const element = document.querySelector('#df-ebc108d8-20f9-4231-9145-f0a53519264d');\n",
              "          const dataTable =\n",
              "            await google.colab.kernel.invokeFunction('convertToInteractive',\n",
              "                                                     [key], {});\n",
              "          if (!dataTable) return;\n",
              "\n",
              "          const docLinkHtml = 'Like what you see? Visit the ' +\n",
              "            '<a target=\"_blank\" href=https://colab.research.google.com/notebooks/data_table.ipynb>data table notebook</a>'\n",
              "            + ' to learn more about interactive tables.';\n",
              "          element.innerHTML = '';\n",
              "          dataTable['output_type'] = 'display_data';\n",
              "          await google.colab.output.renderOutput(dataTable, element);\n",
              "          const docLink = document.createElement('div');\n",
              "          docLink.innerHTML = docLinkHtml;\n",
              "          element.appendChild(docLink);\n",
              "        }\n",
              "      </script>\n",
              "    </div>\n",
              "  </div>\n",
              "  "
            ]
          },
          "metadata": {},
          "execution_count": 42
        }
      ]
    },
    {
      "cell_type": "markdown",
      "source": [
        "Dalam proses scaling ini, nilai-nilai asli pada setiap kolom telah diubah menjadi nilai yang berada dalam rentang antara 0 dan 1. Dengan skala ini, nilai-nilai pada kolom-kolom tersebut menjadi seragam dan dapat dibandingkan secara relatif."
      ],
      "metadata": {
        "id": "9ZwK4RO5bbrZ"
      }
    },
    {
      "cell_type": "markdown",
      "source": [
        "# Menentukan Nilai K Menggunakan Elbow Method\n",
        "Elbow method adalah metode yang digunakan untuk menentukan jumlah optimal dari kluster (k) dalam algoritma clustering, seperti K-means. Tujuan utama dari elbow method adalah untuk mencari titik di grafik yang menunjukkan perubahan yang signifikan dalam penjelasan varians (variance explained) dengan penambahan jumlah kluster."
      ],
      "metadata": {
        "id": "k1UBTASXbQ9M"
      }
    },
    {
      "cell_type": "code",
      "source": [
        "# Membuat range k_values dari 1 hingga 9 yang akan digunakan sebagai jumlah kluster pada algoritma K-means.\n",
        "k_values = range(1, 10)\n",
        "\n",
        "# Mengiterasi melalui setiap jumlah kluster dan menghitung inersia (within-cluster sum of squares) untuk setiap iterasi:\n",
        "inertia = []\n",
        "for k in k_values:\n",
        "    kmeans = KMeans(n_clusters=k, n_init=10, random_state=42)\n",
        "    # kmeans = KMeans(n_clusters=k, random_state=42)\n",
        "    kmeans.fit(df[['incomeperperson', 'internetuserate', 'urbanrate']])\n",
        "    inertia.append(kmeans.inertia_)\n",
        "\n",
        "# Menampilkan grafik elbow method yang menunjukkan hubungan antara jumlah kluster (x-axis) dan inertia (y-axis).\n",
        "plt.plot(k_values, inertia, 'bx-')\n",
        "plt.xlabel('Number of Clusters')\n",
        "plt.ylabel('Inertia')\n",
        "plt.title('Elbow Method')\n",
        "plt.show()"
      ],
      "metadata": {
        "colab": {
          "base_uri": "https://localhost:8080/",
          "height": 472
        },
        "id": "46GQuBbWzj0x",
        "outputId": "19d376d6-c39e-494d-ffa2-05d9d78fb008"
      },
      "execution_count": 43,
      "outputs": [
        {
          "output_type": "display_data",
          "data": {
            "text/plain": [
              "<Figure size 640x480 with 1 Axes>"
            ],
            "image/png": "[encoded data removed]"
          },
          "metadata": {}
        }
      ]
    },
    {
      "cell_type": "markdown",
      "source": [
        "Note mengenai elbow method:\n",
        "- Inertia mengacu pada jumlah total squared distances antara setiap titik data dan pusat kluster terdekat. Semakin rendah nilai inertia, semakin\n",
        "baik klasterisasi.\n",
        "- Pada grafik elbow, kita mencari titik di mana penurunan inertia mulai menurun secara signifikan (menyebabkan penekukan seperti siku).\n",
        "\n",
        "Oleh karena itu kita akan mencoba melakukan clustering menggunakan nilai k = 2 dan k = 3."
      ],
      "metadata": {
        "id": "BCGWRjxsbO7d"
      }
    },
    {
      "cell_type": "markdown",
      "source": [
        "# Implementasi Algoritma K-Means Dengan K = 2"
      ],
      "metadata": {
        "id": "9reoW-OocRKa"
      }
    },
    {
      "cell_type": "code",
      "source": [
        "# Inisialisasi objek KMeans dengan jumlah kluster yang diinginkan\n",
        "kmeans = KMeans(n_clusters=2, n_init=10, random_state=42)\n",
        "\n",
        "# Melakukan proses clustering dengan menggunakan fitur incomeperperson, internetuserate, dan urbanrate dari dataframe df\n",
        "kmeans.fit(df[['incomeperperson', 'internetuserate', 'urbanrate']])\n",
        "\n",
        "# Menambahkan kolom 'cluster' pada dataframe df dan mengisinya dengan label kluster yang ditemukan oleh KMeans\n",
        "df.loc[:, 'cluster'] = kmeans.labels_"
      ],
      "metadata": {
        "id": "zDs-jQfG4_Vw",
        "colab": {
          "base_uri": "https://localhost:8080/"
        },
        "outputId": "d5b2b234-0dbc-4b85-d49d-b0d696319684"
      },
      "execution_count": 44,
      "outputs": [
        {
          "output_type": "stream",
          "name": "stderr",
          "text": [
            "<ipython-input-44-fe9af3a56fd3>:8: SettingWithCopyWarning: \n",
            "A value is trying to be set on a copy of a slice from a DataFrame.\n",
            "Try using .loc[row_indexer,col_indexer] = value instead\n",
            "\n",
            "See the caveats in the documentation: https://pandas.pydata.org/pandas-docs/stable/user_guide/indexing.html#returning-a-view-versus-a-copy\n",
            "  df.loc[:, 'cluster'] = kmeans.labels_\n"
          ]
        }
      ]
    },
    {
      "cell_type": "code",
      "source": [
        "df # Menampilkan cluster"
      ],
      "metadata": {
        "colab": {
          "base_uri": "https://localhost:8080/",
          "height": 424
        },
        "id": "hBDrHqFWfpxP",
        "outputId": "2c4cce00-ed99-4763-8974-c7233f8630f7"
      },
      "execution_count": 45,
      "outputs": [
        {
          "output_type": "execute_result",
          "data": {
            "text/plain": [
              "                 country  incomeperperson  internetuserate  urbanrate  cluster\n",
              "1                Albania         0.022212         0.469253   0.405357        1\n",
              "2                Algeria         0.026099         0.128788   0.611830        1\n",
              "3                Andorra         0.267828         0.846606   0.876339        0\n",
              "4                 Angola         0.015663         0.102589   0.516741        1\n",
              "5    Antigua and Barbuda         0.144594         0.842890   0.223884        0\n",
              "..                   ...              ...              ...        ...      ...\n",
              "207            Venezuela         0.066524         0.373479   0.925446        0\n",
              "208              Vietnam         0.007591         0.289661   0.194643        1\n",
              "210          Yemen, Rep.         0.006212         0.127213   0.225893        1\n",
              "211               Zambia         0.004028         0.103899   0.279241        1\n",
              "212             Zimbabwe         0.002661         0.118313   0.300670        1\n",
              "\n",
              "[182 rows x 5 columns]"
            ],
            "text/html": [
              "\n",
              "  <div id=\"df-26cbe3bf-15fe-46fa-898c-ec1b3dd0a8e1\">\n",
              "    <div class=\"colab-df-container\">\n",
              "      <div>\n",
              "<style scoped>\n",
              "    .dataframe tbody tr th:only-of-type {\n",
              "        vertical-align: middle;\n",
              "    }\n",
              "\n",
              "    .dataframe tbody tr th {\n",
              "        vertical-align: top;\n",
              "    }\n",
              "\n",
              "    .dataframe thead th {\n",
              "        text-align: right;\n",
              "    }\n",
              "</style>\n",
              "<table border=\"1\" class=\"dataframe\">\n",
              "  <thead>\n",
              "    <tr style=\"text-align: right;\">\n",
              "      <th></th>\n",
              "      <th>country</th>\n",
              "      <th>incomeperperson</th>\n",
              "      <th>internetuserate</th>\n",
              "      <th>urbanrate</th>\n",
              "      <th>cluster</th>\n",
              "    </tr>\n",
              "  </thead>\n",
              "  <tbody>\n",
              "    <tr>\n",
              "      <th>1</th>\n",
              "      <td>Albania</td>\n",
              "      <td>0.022212</td>\n",
              "      <td>0.469253</td>\n",
              "      <td>0.405357</td>\n",
              "      <td>1</td>\n",
              "    </tr>\n",
              "    <tr>\n",
              "      <th>2</th>\n",
              "      <td>Algeria</td>\n",
              "      <td>0.026099</td>\n",
              "      <td>0.128788</td>\n",
              "      <td>0.611830</td>\n",
              "      <td>1</td>\n",
              "    </tr>\n",
              "    <tr>\n",
              "      <th>3</th>\n",
              "      <td>Andorra</td>\n",
              "      <td>0.267828</td>\n",
              "      <td>0.846606</td>\n",
              "      <td>0.876339</td>\n",
              "      <td>0</td>\n",
              "    </tr>\n",
              "    <tr>\n",
              "      <th>4</th>\n",
              "      <td>Angola</td>\n",
              "      <td>0.015663</td>\n",
              "      <td>0.102589</td>\n",
              "      <td>0.516741</td>\n",
              "      <td>1</td>\n",
              "    </tr>\n",
              "    <tr>\n",
              "      <th>5</th>\n",
              "      <td>Antigua and Barbuda</td>\n",
              "      <td>0.144594</td>\n",
              "      <td>0.842890</td>\n",
              "      <td>0.223884</td>\n",
              "      <td>0</td>\n",
              "    </tr>\n",
              "    <tr>\n",
              "      <th>...</th>\n",
              "      <td>...</td>\n",
              "      <td>...</td>\n",
              "      <td>...</td>\n",
              "      <td>...</td>\n",
              "      <td>...</td>\n",
              "    </tr>\n",
              "    <tr>\n",
              "      <th>207</th>\n",
              "      <td>Venezuela</td>\n",
              "      <td>0.066524</td>\n",
              "      <td>0.373479</td>\n",
              "      <td>0.925446</td>\n",
              "      <td>0</td>\n",
              "    </tr>\n",
              "    <tr>\n",
              "      <th>208</th>\n",
              "      <td>Vietnam</td>\n",
              "      <td>0.007591</td>\n",
              "      <td>0.289661</td>\n",
              "      <td>0.194643</td>\n",
              "      <td>1</td>\n",
              "    </tr>\n",
              "    <tr>\n",
              "      <th>210</th>\n",
              "      <td>Yemen, Rep.</td>\n",
              "      <td>0.006212</td>\n",
              "      <td>0.127213</td>\n",
              "      <td>0.225893</td>\n",
              "      <td>1</td>\n",
              "    </tr>\n",
              "    <tr>\n",
              "      <th>211</th>\n",
              "      <td>Zambia</td>\n",
              "      <td>0.004028</td>\n",
              "      <td>0.103899</td>\n",
              "      <td>0.279241</td>\n",
              "      <td>1</td>\n",
              "    </tr>\n",
              "    <tr>\n",
              "      <th>212</th>\n",
              "      <td>Zimbabwe</td>\n",
              "      <td>0.002661</td>\n",
              "      <td>0.118313</td>\n",
              "      <td>0.300670</td>\n",
              "      <td>1</td>\n",
              "    </tr>\n",
              "  </tbody>\n",
              "</table>\n",
              "<p>182 rows × 5 columns</p>\n",
              "</div>\n",
              "      <button class=\"colab-df-convert\" onclick=\"convertToInteractive('df-26cbe3bf-15fe-46fa-898c-ec1b3dd0a8e1')\"\n",
              "              title=\"Convert this dataframe to an interactive table.\"\n",
              "              style=\"display:none;\">\n",
              "        \n",
              "  <svg xmlns=\"http://www.w3.org/2000/svg\" height=\"24px\"viewBox=\"0 0 24 24\"\n",
              "       width=\"24px\">\n",
              "    <path d=\"M0 0h24v24H0V0z\" fill=\"none\"/>\n",
              "    <path d=\"M18.56 5.44l.94 2.06.94-2.06 2.06-.94-2.06-.94-.94-2.06-.94 2.06-2.06.94zm-11 1L8.5 8.5l.94-2.06 2.06-.94-2.06-.94L8.5 2.5l-.94 2.06-2.06.94zm10 10l.94 2.06.94-2.06 2.06-.94-2.06-.94-.94-2.06-.94 2.06-2.06.94z\"/><path d=\"M17.41 7.96l-1.37-1.37c-.4-.4-.92-.59-1.43-.59-.52 0-1.04.2-1.43.59L10.3 9.45l-7.72 7.72c-.78.78-.78 2.05 0 2.83L4 21.41c.39.39.9.59 1.41.59.51 0 1.02-.2 1.41-.59l7.78-7.78 2.81-2.81c.8-.78.8-2.07 0-2.86zM5.41 20L4 18.59l7.72-7.72 1.47 1.35L5.41 20z\"/>\n",
              "  </svg>\n",
              "      </button>\n",
              "      \n",
              "  <style>\n",
              "    .colab-df-container {\n",
              "      display:flex;\n",
              "      flex-wrap:wrap;\n",
              "      gap: 12px;\n",
              "    }\n",
              "\n",
              "    .colab-df-convert {\n",
              "      background-color: #E8F0FE;\n",
              "      border: none;\n",
              "      border-radius: 50%;\n",
              "      cursor: pointer;\n",
              "      display: none;\n",
              "      fill: #1967D2;\n",
              "      height: 32px;\n",
              "      padding: 0 0 0 0;\n",
              "      width: 32px;\n",
              "    }\n",
              "\n",
              "    .colab-df-convert:hover {\n",
              "      background-color: #E2EBFA;\n",
              "      box-shadow: 0px 1px 2px rgba(60, 64, 67, 0.3), 0px 1px 3px 1px rgba(60, 64, 67, 0.15);\n",
              "      fill: #174EA6;\n",
              "    }\n",
              "\n",
              "    [theme=dark] .colab-df-convert {\n",
              "      background-color: #3B4455;\n",
              "      fill: #D2E3FC;\n",
              "    }\n",
              "\n",
              "    [theme=dark] .colab-df-convert:hover {\n",
              "      background-color: #434B5C;\n",
              "      box-shadow: 0px 1px 3px 1px rgba(0, 0, 0, 0.15);\n",
              "      filter: drop-shadow(0px 1px 2px rgba(0, 0, 0, 0.3));\n",
              "      fill: #FFFFFF;\n",
              "    }\n",
              "  </style>\n",
              "\n",
              "      <script>\n",
              "        const buttonEl =\n",
              "          document.querySelector('#df-26cbe3bf-15fe-46fa-898c-ec1b3dd0a8e1 button.colab-df-convert');\n",
              "        buttonEl.style.display =\n",
              "          google.colab.kernel.accessAllowed ? 'block' : 'none';\n",
              "\n",
              "        async function convertToInteractive(key) {\n",
              "          const element = document.querySelector('#df-26cbe3bf-15fe-46fa-898c-ec1b3dd0a8e1');\n",
              "          const dataTable =\n",
              "            await google.colab.kernel.invokeFunction('convertToInteractive',\n",
              "                                                     [key], {});\n",
              "          if (!dataTable) return;\n",
              "\n",
              "          const docLinkHtml = 'Like what you see? Visit the ' +\n",
              "            '<a target=\"_blank\" href=https://colab.research.google.com/notebooks/data_table.ipynb>data table notebook</a>'\n",
              "            + ' to learn more about interactive tables.';\n",
              "          element.innerHTML = '';\n",
              "          dataTable['output_type'] = 'display_data';\n",
              "          await google.colab.output.renderOutput(dataTable, element);\n",
              "          const docLink = document.createElement('div');\n",
              "          docLink.innerHTML = docLinkHtml;\n",
              "          element.appendChild(docLink);\n",
              "        }\n",
              "      </script>\n",
              "    </div>\n",
              "  </div>\n",
              "  "
            ]
          },
          "metadata": {},
          "execution_count": 45
        }
      ]
    },
    {
      "cell_type": "markdown",
      "source": [
        "Kolom baru dengan nama ```cluster``` merupakan hasil clustering yang telah dilakukan. Dataset dibagi menjadi sebanyak nilai yang ditentukan (2). Terdapat 2 yang terbentuk yaitu cluster 0 dan cluster 1."
      ],
      "metadata": {
        "id": "2VDSVszDctD2"
      }
    },
    {
      "cell_type": "markdown",
      "source": [
        "### Visualisasi Dengan Scatter Plot"
      ],
      "metadata": {
        "id": "IpGSKXppdo8L"
      }
    },
    {
      "cell_type": "code",
      "source": [
        "# Visualisasi scatter plot\n",
        "plt.scatter(df['incomeperperson'], df['internetuserate'], c=df['cluster'], cmap='viridis')\n",
        "\n",
        "plt.xlabel('Income Per Person')\n",
        "plt.ylabel('Internet Use Rate')\n",
        "plt.title('K-means Clustering Global Internet Usage')\n",
        "plt.show()"
      ],
      "metadata": {
        "colab": {
          "base_uri": "https://localhost:8080/",
          "height": 472
        },
        "id": "9ElRdo3N5CYs",
        "outputId": "f19989a3-7596-4a02-85c8-cb5369e59577"
      },
      "execution_count": 46,
      "outputs": [
        {
          "output_type": "display_data",
          "data": {
            "text/plain": [
              "<Figure size 640x480 with 1 Axes>"
            ],
            "image/png": "[encoded data removed]"
          },
          "metadata": {}
        }
      ]
    },
    {
      "cell_type": "code",
      "source": [
        "# Visualisasi scatter plot\n",
        "plt.scatter(df['urbanrate'], df['internetuserate'], c=df['cluster'], cmap='viridis')\n",
        "\n",
        "plt.xlabel('Urban Rate')\n",
        "plt.ylabel('Internet Use Rate')\n",
        "plt.title('K-means Clustering Global Internet Usage')\n",
        "plt.show()"
      ],
      "metadata": {
        "colab": {
          "base_uri": "https://localhost:8080/",
          "height": 472
        },
        "id": "4EMJQUldQETm",
        "outputId": "94809b21-4f3c-46b9-fd1b-9c0ab0bce009"
      },
      "execution_count": 47,
      "outputs": [
        {
          "output_type": "display_data",
          "data": {
            "text/plain": [
              "<Figure size 640x480 with 1 Axes>"
            ],
            "image/png": "[encoded data removed]"
          },
          "metadata": {}
        }
      ]
    },
    {
      "cell_type": "markdown",
      "source": [
        "Note:\n",
        "- Cluster 0 = ungu\n",
        "- Cluster 1 = kuning"
      ],
      "metadata": {
        "id": "5E00Bnuboni3"
      }
    },
    {
      "cell_type": "markdown",
      "source": [
        "Informasi yang dapat diambil dari hasil clustering menggunakan K-Means tersebut antara lain:\n",
        "\n",
        "1. ```cluster 0``` memiliki rata-rata tingkat pendapatan per individu (incomeperperson) yang relatif lebih tinggi dibandingkan ```cluster 1```. Kelompok pertama juga memiliki tingkat penggunaan internet (internetuserate) dan tingkat urbanisasi (urbanrate) yang lebih tinggi dibandingkan kelompok kedua.\n",
        "\n",
        "2. ```cluster 1``` memiliki rata-rata tingkat pendapatan per individu (incomeperperson) yang relatif lebih rendah dibandingkan ```cluster 0```. Kelompok kedua juga memiliki tingkat penggunaan internet (internetuserate) dan tingkat urbanisasi (urbanrate) yang lebih rendah dibandingkan ```cluster 0```.\n",
        "\n",
        "3. Negara-negara yang termasuk dalam ```cluster 0``` memiliki karakteristik yang lebih maju dalam hal pendapatan per individu, penggunaan internet, dan tingkat urbanisasi. Sementara itu, negara-negara yang termasuk dalam ```cluster 1``` memiliki karakteristik yang lebih rendah dalam hal hal tersebut."
      ],
      "metadata": {
        "id": "e5yfgV316gvp"
      }
    },
    {
      "cell_type": "markdown",
      "source": [
        "# Kesimpulan\n",
        "Dengan hasil clustering yang telah dilakukan, data global penggunaan internet dapat dikelompokkan berdasarkan pola dan karakteristiknya. Kelompok-kelompok tersebut dapat digunakan untuk beberapa tujuan, antara lain:\n",
        "- Analisis perbandingan negara dalam bidang teknologi terutama internet.\n",
        "- Perencanaan kebijakan dan strategi\n",
        "\n",
        "Misalnya, dengan mengetahui kelompok negara yang memiliki tingkat penggunaan internet yang tinggi, perusahaan teknologi atau penyedia layanan internet dapat mengarahkan upaya pemasaran dan pengembangan produk mereka ke negara-negara tersebut."
      ],
      "metadata": {
        "id": "KrNYhRYztKXX"
      }
    }
  ]
}